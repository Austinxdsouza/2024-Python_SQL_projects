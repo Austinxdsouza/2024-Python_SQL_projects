{
  "nbformat": 4,
  "nbformat_minor": 0,
  "metadata": {
    "colab": {
      "provenance": [],
      "authorship_tag": "ABX9TyOYgwPDv6krlqOpNtwwijkR",
      "include_colab_link": true
    },
    "kernelspec": {
      "name": "python3",
      "display_name": "Python 3"
    },
    "language_info": {
      "name": "python"
    }
  },
  "cells": [
    {
      "cell_type": "markdown",
      "metadata": {
        "id": "view-in-github",
        "colab_type": "text"
      },
      "source": [
        "<a href=\"https://colab.research.google.com/github/Austinxdsouza/GoogleTrendsAPI_Project_Python/blob/main/Py_David_Roche_Assignment_SQL.ipynb\" target=\"_parent\"><img src=\"https://colab.research.google.com/assets/colab-badge.svg\" alt=\"Open In Colab\"/></a>"
      ]
    },
    {
      "cell_type": "code",
      "source": [
        "import sqlite3\n",
        "db = sqlite3.connect(\"database.db\")"
      ],
      "metadata": {
        "id": "ix-AkwNb8w2T"
      },
      "execution_count": 3,
      "outputs": []
    },
    {
      "cell_type": "code",
      "source": [
        "import sqlite3\n",
        ">>> db = sqlite3.connect(\"database.db\")"
      ],
      "metadata": {
        "id": "MPJW1WmR8wzp"
      },
      "execution_count": 4,
      "outputs": []
    },
    {
      "cell_type": "code",
      "source": [
        "cur = db.cursor()\n",
        "#cur.execute(\"CREATE TABLE employee_data (name text,age integer,job text)\")\n",
        "db.commit()\n",
        "cur.execute(\"INSERT INTO employee_data VALUES('andrea',32,'programmer')\")\n",
        "db.commit()\n",
        "db.close()"
      ],
      "metadata": {
        "id": "E6LKW-4z8ww8"
      },
      "execution_count": 9,
      "outputs": []
    },
    {
      "cell_type": "code",
      "source": [
        "import pandas as pd\n",
        "db = sqlite3.connect(\"database.db\")\n",
        "df = pd.read_sql_query(\"SELECT * FROM employee_data WHERE age=32\", db)\n",
        "db.close()\n",
        "print(df)"
      ],
      "metadata": {
        "colab": {
          "base_uri": "https://localhost:8080/"
        },
        "id": "BZVD7l3o8wtY",
        "outputId": "85fd0158-e92f-4134-f5eb-1b50cad0cd66"
      },
      "execution_count": 10,
      "outputs": [
        {
          "output_type": "stream",
          "name": "stdout",
          "text": [
            "     name  age         job\n",
            "0  andrea   32  programmer\n"
          ]
        }
      ]
    },
    {
      "cell_type": "code",
      "source": [],
      "metadata": {
        "id": "MbNLDxLp8wqz"
      },
      "execution_count": null,
      "outputs": []
    },
    {
      "cell_type": "code",
      "source": [],
      "metadata": {
        "id": "xTu9np-38wnP"
      },
      "execution_count": null,
      "outputs": []
    },
    {
      "cell_type": "code",
      "source": [],
      "metadata": {
        "id": "8n8YqwEH8wkB"
      },
      "execution_count": null,
      "outputs": []
    },
    {
      "cell_type": "code",
      "source": [],
      "metadata": {
        "id": "DBOlajHU8v9k"
      },
      "execution_count": null,
      "outputs": []
    }
  ]
}