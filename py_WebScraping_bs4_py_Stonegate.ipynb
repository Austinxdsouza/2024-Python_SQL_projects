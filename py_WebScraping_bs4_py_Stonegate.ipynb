{
  "cells": [
    {
      "cell_type": "markdown",
      "metadata": {
        "id": "view-in-github",
        "colab_type": "text"
      },
      "source": [
        "<a href=\"https://colab.research.google.com/github/Austinxdsouza/2024-Python_SQL_projets/blob/main/Stonegate.ipynb\" target=\"_parent\"><img src=\"https://colab.research.google.com/assets/colab-badge.svg\" alt=\"Open In Colab\"/></a>"
      ]
    },
    {
      "cell_type": "markdown",
      "metadata": {
        "id": "gCLv8ft5S8WQ"
      },
      "source": [
        "https://order.marstons.co.uk/mytonhousefarm/order\n",
        "https://docs.google.com/document/d/1fC-OKsW5ocF4-_5IYcaTbCxBzq_UU9VC/edit\n",
        "https://www.youtube.com/watch?v=Xjv1sY630Uc\n",
        "https://www.youtube.com/watch?v=XVv6mJpFOb0 WebScraping FreeBootCamp"
      ]
    },
    {
      "cell_type": "markdown",
      "metadata": {
        "id": "CDnWxFBwS7an"
      },
      "source": []
    },
    {
      "cell_type": "code",
      "execution_count": null,
      "metadata": {
        "colab": {
          "base_uri": "https://localhost:8080/"
        },
        "id": "B1tFPmd3aZFR",
        "outputId": "b26d9e5e-bed5-4dab-c4a5-4e2c81031310"
      },
      "outputs": [
        {
          "output_type": "stream",
          "name": "stdout",
          "text": [
            "Collecting pyspark\n",
            "  Downloading pyspark-3.5.2.tar.gz (317.3 MB)\n",
            "\u001b[2K     \u001b[90m━━━━━━━━━━━━━━━━━━━━━━━━━━━━━━━━━━━━━━━━\u001b[0m \u001b[32m317.3/317.3 MB\u001b[0m \u001b[31m4.5 MB/s\u001b[0m eta \u001b[36m0:00:00\u001b[0m\n",
            "\u001b[?25h  Preparing metadata (setup.py) ... \u001b[?25l\u001b[?25hdone\n",
            "Requirement already satisfied: py4j==0.10.9.7 in /usr/local/lib/python3.10/dist-packages (from pyspark) (0.10.9.7)\n",
            "Building wheels for collected packages: pyspark\n",
            "  Building wheel for pyspark (setup.py) ... \u001b[?25l\u001b[?25hdone\n",
            "  Created wheel for pyspark: filename=pyspark-3.5.2-py2.py3-none-any.whl size=317812365 sha256=a428c5d5312353311a32e597aeb22e9c783f4e598134b6ad1bd3b094d9a7ea9d\n",
            "  Stored in directory: /root/.cache/pip/wheels/34/34/bd/03944534c44b677cd5859f248090daa9fb27b3c8f8e5f49574\n",
            "Successfully built pyspark\n",
            "Installing collected packages: pyspark\n",
            "Successfully installed pyspark-3.5.2\n"
          ]
        }
      ],
      "source": [
        "pip install pyspark"
      ]
    },
    {
      "cell_type": "markdown",
      "source": [
        "**All Sites Locations**"
      ],
      "metadata": {
        "id": "9gWKW7TK85wW"
      }
    },
    {
      "cell_type": "code",
      "source": [
        "from bs4 import BeautifulSoup\n",
        "import requests\n",
        "from pyspark.sql import SparkSession\n",
        "from pyspark.sql.types import StructType, StructField, StringType, IntegerType\n",
        "\n",
        "# Importing BeautifulSoup and it\n",
        "# is in the bs4 module\n",
        "from bs4 import BeautifulSoup\n",
        "\n",
        "# Opening the html file. If the file\n",
        "# is present in different location,\n",
        "# exact location need to be mentioned\n",
        "HTMLFileToBeOpened = open(\"/content/drive/MyDrive/Colab Notebooks/py_Stonegate_webscraping/All_locations/AllSites.html\", \"r\")\n",
        "\n",
        "# Reading the file and storing in a variable\n",
        "contents = HTMLFileToBeOpened.read()\n",
        "\n",
        "# Creating a BeautifulSoup object and\n",
        "# specifying the parser\n",
        "beautifulSoupText = BeautifulSoup(contents, 'lxml')\n",
        "\n",
        "\n",
        "menu_items = beautifulSoupText.find_all('div', class_='body__main')  # Example placeholder; update with actual class\n",
        "\n",
        "    # Extract relevant information for each menu item\n",
        "menu_data = []\n",
        "for item in menu_items:\n",
        "    # item_classification = item.find('h2').text if item.find('h2') else \"No class\"\n",
        "    name = item.find('h3', class_='body__heading').text if item.find('h3', class_='body__heading') else \"No name\"\n",
        "    # price = item.find('p', class_='details__price').text if item.find('p', class_='details__price') else \"No price\"\n",
        "    #description = item.find('p', class_='details__description').text if item.find('p', class_='details__description') else \"No description\"\n",
        "    menu_data.append({\n",
        "        #'item_classification': item_classification,\n",
        "        'name': name\n",
        "        # 'price': price,\n",
        "        #'description': description\n",
        "    })\n",
        "\n",
        "print(menu_data)\n",
        "\n",
        "\n",
        "# # To get all the tags present in the html\n",
        "# # and getting their length\n",
        "# for tag in beautifulSoupText.findAll(True):\n",
        "# \tprint(tag.name, \" : \", len(beautifulSoupText.find(tag.name).text))\n",
        "# Ref:: https://www.geeksforgeeks.org/how-to-scrape-data-from-local-html-files-using-python/\n",
        "\n",
        "spark = SparkSession.builder.appName(\"app\").getOrCreate()\n",
        "\n",
        "rdd = spark.sparkContext.parallelize(menu_data)\n",
        "\n",
        "\n",
        "# Define the schema for the Data Frame\n",
        "schema = StructType([\n",
        "    StructField(\"name\", StringType(), nullable=False),\n",
        "    # StructField(\"price\", StringType(), nullable=False),\n",
        "])\n",
        "df = spark.createDataFrame(rdd, schema)\n",
        "df.write.csv('/content/drive/MyDrive/Colab Notebooks/py_Stonegate_webscraping/All_locations/data_csv')\n",
        "df.write.parquet('/content/drive/MyDrive/Colab Notebooks/py_Stonegate_webscraping/All_locations/data_p')\n",
        "\n"
      ],
      "metadata": {
        "colab": {
          "base_uri": "https://localhost:8080/"
        },
        "id": "2Hx04HtA83UY",
        "outputId": "edc161a2-cbc9-4d89-9a7d-3df1cd6a4901"
      },
      "execution_count": null,
      "outputs": [
        {
          "output_type": "stream",
          "name": "stdout",
          "text": [
            "[{'name': 'Blue Jay Derby'}, {'name': \"Viking's Landing Liverpool\"}, {'name': 'Horn & Trumpet Stoke-on-Trent'}, {'name': 'Elms Lutterworth'}, {'name': 'Skymaster Warrington'}, {'name': 'Blaina Wharf Newport'}, {'name': 'Cherry Laurel Bridgend'}, {'name': 'Y Cerrig Glas Pembroke Dock'}, {'name': 'Willow Tree Brynmawr'}, {'name': 'Clock Works Ystradgynlais'}, {'name': 'Ten Lock Flight Runcorn'}, {'name': 'Cotton Mill Newcastle-under-Lyme'}, {'name': 'Peacock Birchwood'}, {'name': 'Mulberry Leaves Leek'}, {'name': 'Inkwell at Lichfield'}, {'name': 'The Boundary On The Green'}, {'name': 'Oyster Bed Whitstable'}, {'name': 'Canterbury Bell Thanet'}, {'name': 'Fields at Aylesford'}, {'name': 'Saxon King Southend-on-Sea'}, {'name': 'Star at Sidcup Place'}, {'name': 'Sarsen Stones Farnborough'}, {'name': 'Coaching Halt Crawley'}, {'name': 'Flying Shuttle Haverhill'}, {'name': 'Gunpowder Mill Faversham'}, {'name': 'Winter Green Rotherham'}, {'name': 'Alders Ollerton'}, {'name': 'Lockkeeper Worksop'}, {'name': 'Tawny Owl Newark'}, {'name': 'Golden Eagle Mansfield'}, {'name': 'Copper Beech Norwich'}, {'name': 'Grayling Great Yarmouth'}, {'name': 'Greenstone Dereham'}, {'name': 'Tulip Queen Spalding'}, {'name': 'Cobblestones March'}, {'name': 'Running Horse Fakenham'}, {'name': 'Sugar Mill Bourne'}, {'name': 'Apple Cart Peterborough'}, {'name': 'Spring Tide Lowestoft'}, {'name': 'Honeystone Hunstanton'}, {'name': 'Spread Eagle Corby'}, {'name': 'Swan & Cygnet Wakefield'}, {'name': 'House Martin Doncaster'}, {'name': 'Red Sails Hull'}, {'name': 'Kings Chamber Thorne'}, {'name': 'Iron Forge Scunthorpe'}, {'name': 'Hatfields Doncaster'}, {'name': 'Sun Verge Rhyl'}, {'name': 'Bear Inn Street'}, {'name': 'Bell & Bottle Kirkham'}, {'name': 'Bobbin Carrier Bradford'}, {'name': 'The Acorn - Accrington'}, {'name': 'Chain Bridge Boston'}, {'name': 'Chalkhill Blue Andover'}, {'name': 'Chestnut Tree Wednesbury'}, {'name': 'Copperpot Knowsley'}, {'name': 'Copt Oak Markfield'}, {'name': 'Dancing Betty Murton'}, {'name': 'Dragonfly Basingstoke'}, {'name': 'Fieldfare Chorley'}, {'name': 'Five Bridges Kent'}, {'name': 'Fly Line Garforth'}, {'name': 'Flying Squirrel Bradford'}, {'name': 'Fox Cub Spennymoor'}, {'name': 'Guelder Rose Southport'}, {'name': 'Hurley Flyer Morecambe'}, {'name': 'Jenny Wren Kent'}, {'name': 'Kingfisher Saddleworth'}, {'name': 'Lincolnshire Otter Gainsborough'}, {'name': 'Little Castle Markham Vale'}, {'name': 'Longacre Skelton'}, {'name': 'March Hare Bishop Auckland'}, {'name': 'Market Cross Dunstable'}, {'name': 'Marsh Harrier St Ives'}, {'name': 'Mary Dillwyn Swansea'}, {'name': 'Mast & Rigging Chatham'}, {'name': 'Meadowlark Southend On Sea'}, {'name': 'Mermaid Ipswich'}, {'name': 'Merrie Gardens Isle of Wight'}, {'name': 'Miners Peg Skelmersdale'}, {'name': 'Morgan Belvedere'}, {'name': 'Old Buttercross Oakham'}, {'name': 'Old Duke Southport'}, {'name': 'Saxon Arms'}, {'name': 'Paisley Pear Brackley'}, {'name': 'Penny Hedge Whitby'}, {'name': 'Pinhoe Hoard Exeter'}, {'name': 'Pipe Major Dagenham'}, {'name': 'Rock Rose Dover'}, {'name': 'The Bridge - Wakefield'}, {'name': 'Sandpiper Hull'}, {'name': 'Sandstone Nab Middlesbrough'}, {'name': 'Kings Arms Newcastle Upon Tyne'}, {'name': 'Six Medals Middlehaven'}, {'name': 'Smugglers Cove Clacton-On-Sea'}, {'name': 'Spindle & Thread High Wycombe'}, {'name': 'Spring River Ebbsfleet'}, {'name': 'The Bakehouse Welwyn Garden City'}, {'name': 'Three Lights Fleetwood'}, {'name': 'Turing Key Bletchley'}, {'name': 'White Horse Skegness'}, {'name': 'Two Rivers Chepstow'}, {'name': 'Two Watermills Newbury'}, {'name': 'Whistling Wren Leigh'}, {'name': 'Bankfield Inn Bilston'}, {'name': 'White Willow Bridgwater'}, {'name': 'Wighton Torquay'}, {'name': 'Willows Blackburn'}, {'name': 'Yorkshire Rose West Yorkshire'}, {'name': 'Landing Light Weston Super Mare'}, {'name': 'Lost Coins Haverfordwest'}, {'name': 'Hoghton Arms Withnell'}, {'name': 'Crown Wrexham'}, {'name': 'Admirals Table Bridgwater'}, {'name': 'Inn On The Green Paignton'}, {'name': 'Shah Of Persia Poole'}, {'name': 'Skylark Wellington'}, {'name': 'Woodlark Bordon'}, {'name': 'Squirrel Ludlow'}, {'name': 'Pearl & Trawl Wadebridge'}, {'name': 'Otter Newbridge'}, {'name': 'Dapple Grey Uttoxeter'}, {'name': 'Red Kite Caerphilly'}, {'name': 'King Brychan Merthyr Tydfil'}, {'name': 'Wagtail Wincanton'}, {'name': 'Barn Owl Gloucester'}, {'name': 'Stepping Stones Ashbourne'}, {'name': 'Weavers Whistle Northwich'}, {'name': 'Grazing Cow Lawley'}, {'name': 'Sand Martin Cardiff'}, {'name': 'Caraway Carmarthen'}, {'name': 'Red Deer Crediton'}, {'name': 'Sailmaker Gosport'}, {'name': 'High Orchard Gloucester'}, {'name': 'Smithfield Bell Welshpool'}, {'name': 'Wichel Inn East Wichel'}, {'name': 'Margam Deer Port Talbot'}, {'name': 'Pepper Mill Stoke'}, {'name': 'Starling Cloud Aberystwyth'}, {'name': 'Standing Stones Holyhead'}, {'name': 'Chain Runner Livingston'}, {'name': 'Steam Wheeler Glasgow'}, {'name': 'Pine Marten Dunbar'}, {'name': 'Highland Gate Stirling'}, {'name': 'Old Colliery Edinburgh'}, {'name': 'Harbour Spring Peterhead'}, {'name': 'Dunnichen Stone Forfar'}, {'name': 'Sweet Chestnut Dunfermline'}, {'name': 'Waterwheel Port Glasgow'}, {'name': 'Old Plane Tree Glasgow'}, {'name': 'Jenny Burn Glasgow'}, {'name': 'Ravens Cliff Motherwell'}, {'name': 'Rowan Tree Armadale'}, {'name': 'Lockards Farm Dumfries'}, {'name': 'Queen Of The Loch Balloch'}, {'name': 'Red Squirrel Stevenston'}, {'name': 'Three Witches Inverness'}, {'name': 'Featherbed Shrewsbury'}, {'name': 'Fallow Field Telford'}, {'name': 'Holly Blue Pevensey'}, {'name': 'Water Meadow Melksham'}, {'name': 'Sessile Oak Llanelli'}, {'name': 'Old Gatehouse Kirkintilloch'}, {'name': 'Spiral Weave Kirkcaldy'}, {'name': 'Knot & Plough Stafford'}, {'name': 'Charlie Purley Bognor Regis'}, {'name': 'Sacred Orchard Nantwich'}, {'name': 'Copper Coast Camborne'}, {'name': 'Station Garden Didcot'}, {'name': 'Camperdown Elm Dundee'}, {'name': 'Middlemore Farm Daventry'}, {'name': 'Foxglove Mansfield'}, {'name': 'Conquerors March Hastings'}, {'name': 'Thatchers Needle Diss'}, {'name': 'Willow Beck Northallerton'}, {'name': 'Roebuck Market Harborough'}, {'name': 'Pen Y Bont Farm Mold'}, {'name': 'Brown Hare Preston'}, {'name': 'Newton Grange Durham'}, {'name': 'Tappers Harker Long Eaton'}, {'name': 'Wynnstay Arms Wrexham'}, {'name': 'Albion Burton'}, {'name': 'Old Shepherd Coventry'}, {'name': 'Half Moon Sherborne'}, {'name': 'Swan Thatcham'}, {'name': 'White Hart Hotel Exeter'}, {'name': 'Norman Monk Bretton'}, {'name': 'Lingfield Farm Middlesbrough'}, {'name': 'Cobblers Hall Newton Aycliffe'}, {'name': 'Talbot Atherton'}, {'name': 'Harpers Brook Corby'}, {'name': 'Monkfield Arms Cambourne'}, {'name': 'Wig & Walnut Northampton'}, {'name': 'Boundary Normanton'}, {'name': 'Crows Nest Seaham'}, {'name': 'White Heifer That Travelled'}, {'name': 'Red Admiral Trowbridge'}, {'name': 'Woodman Rotherham'}, {'name': 'Maple Tree Doncaster'}, {'name': 'Stonemasons Ilminster'}, {'name': 'Cherry Tree Norwich'}, {'name': 'Kings Head Ashford'}, {'name': 'Pheasant Ashford'}, {'name': 'Honey Bee Aylesbury'}, {'name': 'Moorhen Peterborough'}, {'name': 'Orchard Amesbury'}, {'name': 'Teal Farm Washington'}, {'name': 'Penny Farthing Coventry'}, {'name': 'Glassworks Stourbridge'}, {'name': 'Llanwern Bull Newport'}, {'name': 'Six Halts Chesterfield'}, {'name': 'Tunny Catch Scarborough'}, {'name': 'Tuck & Tanner'}, {'name': 'Old Ash Dene Ashington'}, {'name': 'Queen Of Hearts Runcorn'}, {'name': 'Eight-Foot Way Sheffield'}, {'name': 'Gardeners Arms Thornton-Cleveleys'}, {'name': 'Foley Arms Sutton Coldfield'}, {'name': 'Old Lane Chippenham'}, {'name': 'Old Colonial Weston-Super-Mare'}, {'name': 'Owl Hotel'}, {'name': 'Fishermans Cot'}, {'name': 'Folly'}, {'name': 'Oakingham Belle'}, {'name': 'Phoenix Gorslas'}, {'name': 'White Hart Newmarket'}, {'name': 'Crown Bridgnorth'}, {'name': 'Fox and Goose Barrow Gurney'}, {'name': 'Elephant & Castle West Moors'}, {'name': 'Original White Hart Ringwood'}, {'name': 'Pure Drop Ferndown'}, {'name': 'Black Horse Cirencester'}, {'name': 'Kingsbridge'}, {'name': 'Porter & Sorter Croydon'}, {'name': 'Crumpled Horn Upminster'}, {'name': 'Ye Olde Crown Rayleigh'}, {'name': 'Maltsters Arms Hotel'}, {'name': 'Navigation'}, {'name': \"Farmer John's Streetly\"}, {'name': 'Dog & Duck Shardlow'}, {'name': 'Kings Highway Derby'}, {'name': 'Corner House Nuneaton'}, {'name': 'Trading Post Kettering'}, {'name': 'Little Owl Chester'}, {'name': 'Old Hall Farm Ellesmere'}, {'name': 'Quill & Taper'}, {'name': 'Milestone Hinkley'}, {'name': 'Trigger Pond Warrington'}, {'name': 'Riverside Inn Northwich'}, {'name': 'Park House Kettering'}, {'name': 'Glen Parva Manor Leicester'}, {'name': 'Wolferstan Arms Tamworth'}, {'name': 'Kings Arms Hathern'}, {'name': 'Ash Tree Rugeley'}, {'name': 'Woodcocks Lincoln'}, {'name': 'Burnt Stump Nottingham'}, {'name': 'Three Crowns Hull'}, {'name': 'Warton Arms Beverley'}, {'name': 'Trawlerman Cleethorpes'}, {'name': 'Pear Tree Cleethorpes'}, {'name': 'Bellflower Garstang'}, {'name': 'Flying Childers Melton Mowbry'}, {'name': 'Holly Bush Inn Wolverhampton'}, {'name': 'Lobster Pot Bridlington'}, {'name': 'Barn Owl Worcester'}, {'name': 'Bootle Arms Liverpool'}, {'name': 'Jacksons Wharf Hartlepool'}, {'name': 'Ribble Pilot Preston'}, {'name': 'Sun Romsley'}, {'name': 'Eaton Farm Long Eaton'}, {'name': 'Gamston Lock Nottingham'}, {'name': 'White Post Farnsfield'}, {'name': 'Crown Powick'}, {'name': 'Mitre Oak Hartlebury'}, {'name': 'Unicorn Hotel Gunthorpe'}, {'name': 'Bure Farm Bicester'}, {'name': 'Crown Brownhills'}, {'name': 'BlueBell Inn Rotherham'}, {'name': 'Bobbin Mill Chorley'}, {'name': 'Norton Grange Evesham'}, {'name': 'Blacksmiths Arms Grangemoor'}, {'name': 'Watermill Kidderminster'}, {'name': 'Nags Head Routh'}, {'name': 'Crewe & Harpur Swarkestone'}, {'name': 'Heart of England Northampton'}, {'name': 'Crown Wychbold'}, {'name': 'Greyhound Higham'}, {'name': 'Land Oak Kidderminster'}, {'name': 'Forge Dudley'}, {'name': 'Meadow Farm Redditch'}, {'name': 'Park Gate Inn Kidderminster'}, {'name': 'Fox Yate'}, {'name': 'Bumble Bee Gwent'}, {'name': 'Grouse & Claret Rowsley'}, {'name': 'Hollow Tree Bristol'}, {'name': 'Chetwynd Arms Stafford'}, {'name': 'Poachers Chirk'}, {'name': 'Bell Inn Tong'}, {'name': 'Newhall Farm Cannock'}, {'name': 'Trumpet Major Dorchester'}, {'name': 'Woodman Ferndown'}, {'name': 'Stag & Hounds Winscombe'}, {'name': 'Ffynnon Wen Cardiff'}, {'name': 'Running Hare Ewloe'}, {'name': 'Plas Coch Wrexham'}, {'name': 'Severn Gorge Telford'}, {'name': 'Talardy Hotel St Asaph'}, {'name': 'Haywain Gloucester'}, {'name': 'College Farm Swindon'}, {'name': 'Cock of Tupsley Hereford'}, {'name': 'Oddfellows Wolverhampton'}, {'name': 'Spread Eagle Gailey'}, {'name': 'Longshore Shoreham-by-Sea'}, {'name': 'Old Irish Harp Aldridge'}, {'name': 'Clock Tower Cheltenham'}, {'name': 'Hopwood House Birmingham'}, {'name': 'Waggon & Horses Wombourne'}, {'name': 'Griffin Nuneaton'}, {'name': 'Sparking Clog Radcliffe'}, {'name': 'Jonty Farmer Derby'}, {'name': 'Boundary Stone Worsley'}, {'name': 'Apollo Hull'}, {'name': 'Highwayman Oswestry'}, {'name': 'Cock Crow Hebburn'}, {'name': 'Longwood Tamworth'}, {'name': 'Cwrt Rawlin Caerphilly'}, {'name': 'Limekiln Nottingham'}, {'name': 'Sir John Cockle Mansfield'}, {'name': 'Hitching Post Bradford'}, {'name': 'Claregate Tettenhall'}, {'name': 'White Hart Hotel Andover'}, {'name': 'Hollingwood Hotel Chesterfield'}, {'name': 'Gospel Oak Tipton'}, {'name': 'Viaduct Kidderminster'}, {'name': 'Voyager Guisborough'}, {'name': 'Potters Bar Stoke'}, {'name': 'Spread Eagle Wednesfield'}, {'name': 'Wych Elm Burntwood'}, {'name': 'Crows Nest Nuneaton'}, {'name': 'Summerhouse Weston Super Mare'}, {'name': 'Lincolnshire Poacher Lincoln'}, {'name': 'Olde House Chesterfield'}, {'name': 'Greyhound Longlevens'}, {'name': 'Coronation Middlesbrough'}, {'name': 'New Crown South Shields'}, {'name': 'British Oak Kingswinford'}, {'name': 'Old Vicarage Whetstone'}, {'name': 'Cherry Orchard Barry'}, {'name': 'Stags Leap Rugeley'}, {'name': 'Samson Blewitt Hednesford'}, {'name': 'Green Lady Caerphilly'}, {'name': 'Rushley Mansfield'}, {'name': 'Chase Rugeley'}, {'name': 'Plough & Harrow Sutton'}, {'name': 'Attleborough Arms Nuneaton'}, {'name': 'Wrottesley Perton'}, {'name': 'White Horse Broughton Astley'}, {'name': 'Plough Lincoln'}, {'name': 'Moreton Arms Fordhouses'}, {'name': 'Manor Farm Swindon'}, {'name': 'Seven Woods Warrington'}, {'name': 'Ladygrove Didcot'}, {'name': 'Myton House Ingleby'}, {'name': 'Keepers Lodge Leicester'}, {'name': 'Brinton Arms Stourport'}, {'name': 'Kings Corner Derby'}, {'name': 'Red Hawk Brough'}, {'name': 'Gough Arms'}, {'name': 'Oak Tree Rednal'}, {'name': 'Fairway Sheffield'}, {'name': 'Mayfly Folkestone'}, {'name': 'Sunnyside Northampton'}, {'name': 'Springfield Darlington'}, {'name': 'Three Crowns Kidderminster'}, {'name': \"Bailey's Court Bristol\"}, {'name': 'Catchems Swadlincote'}, {'name': 'Sump Burton'}, {'name': 'Hadcroft Stourbridge'}, {'name': 'Bulls Head Breaston'}, {'name': 'Rufford Mansfield'}, {'name': 'Goodfellowship Inn Hull'}, {'name': 'Bandon Arms'}, {'name': 'Swan'}, {'name': 'Green Lodge Hotel'}, {'name': 'Dog Harvington'}, {'name': 'Bluebell Inn'}, {'name': 'Crown Inn'}, {'name': 'Ferrers Arms'}, {'name': 'Green Dragon'}, {'name': 'Bridge Inn'}, {'name': 'Clock Warehouse'}, {'name': 'Wheatsheaf'}, {'name': 'Altisidora'}, {'name': 'Boat House'}, {'name': 'Wheatsheaf'}, {'name': 'Acorn Nuneaton'}, {'name': 'Childwall Abbey Liverpool'}, {'name': 'Red Lion Parbold'}, {'name': 'Broughton Arms Rode Heath'}, {'name': 'Dog & Partridge Failsworth'}, {'name': 'Gate Osbaston'}, {'name': 'Kings Head Buxton'}, {'name': 'Crown Bournemouth'}, {'name': 'Famous Old Spa Weymouth'}, {'name': 'Lion & Snake Lincoln'}, {'name': 'Duke of Cumberland Ferriby'}, {'name': 'Cock Norwich'}, {'name': 'Butlers High Wycombe'}, {'name': 'Queens Hotel Hull'}, {'name': 'Queens Head Hedon'}, {'name': 'Model T Darlington'}, {'name': 'Ling Forest Mansfield'}, {'name': 'Red Lion Droitwich'}, {'name': 'Gough Arms'}, {'name': 'Red Lion Inn Mold'}, {'name': 'Fox & Hounds Eckington'}, {'name': 'White Hart Ashby'}, {'name': 'Swan Mansfield'}, {'name': 'Nags Head Wrexham'}, {'name': 'Waterloo Cross'}, {'name': 'Fiveways'}, {'name': 'Magna Carta'}, {'name': 'Twelve Knights Neath'}, {'name': 'Three Arches'}, {'name': 'Crwys Hotel'}, {'name': 'Greenhouse'}, {'name': 'Darran Risca'}, {'name': 'Fox & Hounds Hotel'}, {'name': 'The Pump House'}, {'name': 'Black Boy'}, {'name': 'Star Hotel'}, {'name': 'Old Inn'}, {'name': 'Birchgrove Hotel'}, {'name': 'Cwm Talwg Public House'}, {'name': 'Lamb & Flag'}, {'name': 'Pear Tree'}, {'name': 'Fox & Hounds Hotel'}, {'name': 'Hanbury Ale House'}, {'name': 'Maltsters Arms Hotel'}, {'name': 'Tynant Inn'}, {'name': 'Pheasant'}, {'name': 'Duke Of Wellington Hotel'}, {'name': 'Rose & Crown Porthcawl'}, {'name': 'Duke Of Wellington'}, {'name': 'Plough'}, {'name': 'Tafarn Tanerdy'}, {'name': 'Coopers Carvery'}, {'name': 'Aubrey Arms'}, {'name': 'Dovey Inn'}, {'name': 'Hotel Penwig'}, {'name': 'Harbour Inn'}, {'name': 'Grove Hotel'}, {'name': 'Ty-Risha Alehouse'}, {'name': 'Savoy Country Inn'}, {'name': 'Watermill'}, {'name': 'Ship Inn'}, {'name': 'Penhelig Arms Hotel'}, {'name': 'Ty Mawr'}, {'name': 'Wellington'}, {'name': 'Poverina Inn'}, {'name': 'South Beach'}, {'name': 'Cherry Tree'}, {'name': 'Carlton'}, {'name': 'Coach House'}, {'name': 'Haworth Old Hall'}, {'name': 'Florentine Sheffield'}, {'name': 'The King Charles'}, {'name': 'Coleham Tap'}, {'name': 'Royal Charter'}, {'name': 'Seacourt Bridge'}, {'name': 'Station Inn Hagley'}, {'name': 'Malt Shovel Spondon'}, {'name': 'Coopers at Mansfield Woodhouse'}, {'name': 'The Manor House of Whittington'}, {'name': 'The Angel & Blue Pig'}, {'name': 'The Curious Pig In The Parlour'}, {'name': 'Elephant at the Market'}, {'name': 'The White Hart on Godstone Green'}, {'name': 'The Farmhouse at Mackworth'}, {'name': \"The King's Head Beverley\"}, {'name': \"The Saracen's Head Balsall Common\"}, {'name': 'Twa Dogs'}, {'name': 'Old Crown Wigginton'}, {'name': 'Carriers Inn'}, {'name': 'The Slyne Lodge'}, {'name': 'Ship Inn'}, {'name': 'The Mustard Pot'}, {'name': 'Bell Inn Anslow'}]\n"
          ]
        }
      ]
    },
    {
      "cell_type": "markdown",
      "source": [
        "**DERBY**"
      ],
      "metadata": {
        "id": "Y1b4Auzb9Gp_"
      }
    },
    {
      "cell_type": "code",
      "execution_count": null,
      "metadata": {
        "colab": {
          "base_uri": "https://localhost:8080/"
        },
        "id": "18aC19p-NMLs",
        "outputId": "fa5222f7-bd17-461b-9068-bf2301205a1b"
      },
      "outputs": [
        {
          "output_type": "stream",
          "name": "stdout",
          "text": [
            "[{'name': 'Bacon Muffin ', 'price': '£4.75'}, {'name': 'Mozzarella & Cheddar Bites (V)* ', 'price': '£5.99'}, {'name': 'Mozzarella & Cheddar Bites (V)* ', 'price': '£5.99'}, {'name': 'Small Carvery ', 'price': '£8.79'}, {'name': '2 Pigs in Blankets  ', 'price': '£2.50'}, {'name': 'Mac & Cheese (V) ', 'price': '£12.59'}, {'name': 'Cheeseburger ', 'price': '£12.29'}, {'name': '8oz Aged Rump ', 'price': '£14.79'}, {'name': 'Chicken Tikka Masala ', 'price': '£12.59'}, {'name': 'BBQ Cauliflower Wings (VE)* ', 'price': '£12.79'}, {'name': 'Jacket Potato with Cheese & Beans (V) ', 'price': '£7.59'}, {'name': 'Garlic Bread (V) ', 'price': '£3.00'}, {'name': 'Sherry Trifle Cheesecake (V) ', 'price': '£5.99'}, {'name': 'Kids Cheesy Tortilla Chips (V) ', 'price': '£1.50'}, {'name': 'Kids Cheesy Tortilla Chips (V) ', 'price': '£1.50'}, {'name': 'Kids Beef Burger ', 'price': '£4.99'}, {'name': 'Kids Fish Fillet Fingers ', 'price': '£5.99'}, {'name': \"Hunter's Chicken \", 'price': '£8.29'}, {'name': 'Kids Fruitypot™ Jelly and Ice Cream (V) ', 'price': '£1.50'}, {'name': 'Americano ', 'price': '£2.35'}, {'name': 'Britvic Tonic 200ml ', 'price': '£2.40'}, {'name': 'Britvic Tonic 200ml ', 'price': '£2.40'}, {'name': 'Britvic 55 Apple 275ml ', 'price': '£3.15'}, {'name': 'Pepsi Max - Pint ', 'price': '£3.85'}, {'name': 'J2O Apple & Mango 275ml ', 'price': '£3.35'}, {'name': 'Orange Cordial - 14oz ', 'price': '£1.80'}, {'name': 'Smirnoff Ice 275ml ', 'price': '£5.25'}, {'name': 'Smirnoff Ice 275ml ', 'price': '£5.25'}, {'name': 'Marstons Resolution 275ml ', 'price': '£4.55'}, {'name': 'Bulmers Apple 500ml ', 'price': '£5.45'}, {'name': 'Birra Moretti 330ml ', 'price': '£5.25'}, {'name': 'Becks Blue 275ml ', 'price': '£4.05'}, {'name': 'Hobgoblin Gold  ', 'price': '£4.70'}, {'name': 'Hobgoblin Gold  ', 'price': '£4.70'}, {'name': 'Hobgoblin Gold  ', 'price': '£4.70'}, {'name': 'Pedigree Cask Cordial ', 'price': '£4.65'}, {'name': 'Pedigree Cask Shandy ', 'price': '£4.65'}, {'name': 'Pedigree Cask Top ', 'price': '£4.65'}, {'name': 'Marstons Pedigree Two Pinter ', 'price': '£9.30'}, {'name': 'Pedigree Cask Half ', 'price': '£2.35'}, {'name': 'Pedigree Cask Half Cordial ', 'price': '£2.35'}, {'name': 'Pedigree Cask Half Shandy ', 'price': '£2.35'}, {'name': 'Pedigree Cask Half Top ', 'price': '£2.35'}, {'name': \"Inch's Cider \", 'price': '£5.50'}, {'name': \"Inch's Cider \", 'price': '£5.50'}, {'name': \"Inch's Cider Cordial \", 'price': '£5.50'}, {'name': \"Inch's Cider Shandy \", 'price': '£5.50'}, {'name': \"Inch's Cider Dash \", 'price': '£5.50'}, {'name': \"Inch's Two Pinter \", 'price': '£11.00'}, {'name': \"Inch's Cider Half \", 'price': '£2.75'}, {'name': \"Inch's Cider Half Cordial \", 'price': '£2.75'}, {'name': \"Inch's Cider Half Shandy \", 'price': '£2.75'}, {'name': \"Inch's Cider Half Dash \", 'price': '£2.75'}, {'name': 'Amstel  ', 'price': '£5.05'}, {'name': 'Amstel  ', 'price': '£5.05'}, {'name': 'Amstel Cordial ', 'price': '£5.05'}, {'name': 'Amstel Shandy ', 'price': '£5.05'}, {'name': 'Amstel Top ', 'price': '£5.05'}, {'name': 'Amstel Two Pinter ', 'price': '£10.10'}, {'name': 'Birra Moretti\\xa0Two Pinter Cordial ', 'price': '£12.00'}, {'name': 'Amstel Two Pinter Shandy ', 'price': '£10.10'}, {'name': 'Amstel Two Pinter Top ', 'price': '£10.10'}, {'name': 'Amstel Half ', 'price': '£2.55'}, {'name': 'Amstel Half Cordial ', 'price': '£2.55'}, {'name': 'Amstel Half Shandy ', 'price': '£2.55'}, {'name': 'Amstel Half Top ', 'price': '£2.55'}, {'name': 'Guinness  ', 'price': '£5.30'}, {'name': 'Guinness  ', 'price': '£5.30'}, {'name': 'Guinness Cordial ', 'price': '£5.30'}, {'name': 'Guinness Shandy ', 'price': '£5.30'}, {'name': 'Guinness Top ', 'price': '£5.30'}, {'name': 'Guinness Two Pinter ', 'price': '£10.60'}, {'name': 'Guinness Two Pinter Cordial ', 'price': '£10.60'}, {'name': 'Guinness Two Pinter Shandy ', 'price': '£10.60'}, {'name': 'Guinness Two Pinter Top ', 'price': '£10.60'}, {'name': 'Guinness Half ', 'price': '£2.65'}, {'name': 'Guinness Half Cordial ', 'price': '£2.65'}, {'name': 'Guinness Half Shandy ', 'price': '£2.65'}, {'name': 'Guinness Half Top ', 'price': '£2.65'}, {'name': 'Three Barrels VSOP - Double ', 'price': '£6.00'}, {'name': 'Three Barrels VSOP - Double ', 'price': '£6.00'}, {'name': 'BOE Raspberry & Basil Double ', 'price': '£7.25'}, {'name': 'Bacardi - Double ', 'price': '£5.85'}, {'name': 'Absolut Vodka Double ', 'price': '£6.35'}, {'name': 'Aber Falls Single Malt Double ', 'price': '£6.20'}, {'name': 'Aperol Double ', 'price': '£6.75'}, {'name': 'Jagermeister ', 'price': '£3.85'}, {'name': 'Alta Vista Vive Classic Malbec ', 'price': '£24.00'}, {'name': 'Alta Vista Vive Classic Malbec ', 'price': '£24.00'}, {'name': 'Alta Vista Vive Classic Malbec ', 'price': '£24.00'}, {'name': 'Arietta Pinot Grigio Blush ', 'price': '£20.00'}, {'name': 'Colverde Pinot Grigio ', 'price': '£19.00'}, {'name': 'Aimery Cremant Brut NV ', 'price': '£30.00'}, {'name': 'Alta Vista Vive Classic Malbec 250ml ', 'price': '£9.75'}, {'name': 'Alta Vista Vive Classic Malbec 250ml ', 'price': '£9.75'}, {'name': 'Arietta Pinot Grigio Blush 250ml ', 'price': '£8.25'}, {'name': 'Colverde Pinot Grigio 250ml ', 'price': '£7.75'}, {'name': 'Cara Amica Prosecco Rose 200ml \\t ', 'price': '£8.50'}, {'name': 'Sex On The Beach Cocktail ', 'price': '£6.75'}, {'name': 'Sex On The Beach Cocktail ', 'price': '£6.75'}, {'name': 'Sex On The Beach Pitcher ', 'price': '£13.50'}, {'name': 'Passion Fruit Refresher ', 'price': '£3.75'}, {'name': 'McCoys Cheese & Onion ', 'price': '£1.55'}, {'name': 'McCoys Cheese & Onion ', 'price': '£1.55'}]\n"
          ]
        }
      ],
      "source": [
        "from bs4 import BeautifulSoup\n",
        "import requests\n",
        "# import prettify\n",
        "from pyspark.sql import SparkSession\n",
        "from pyspark.sql.types import StructType, StructField, StringType, IntegerType\n",
        "\n",
        "# Importing BeautifulSoup and it\n",
        "# is in the bs4 module\n",
        "from bs4 import BeautifulSoup\n",
        "\n",
        "# Opening the html file. If the file\n",
        "# is present in different location,\n",
        "# exact location need to be mentioned\n",
        "HTMLFileToBeOpened = open(\"/content/drive/MyDrive/Colab Notebooks/py_Stonegate_webscraping/Derby/Webpage_Marstons_derby.html\", \"r\")\n",
        "\n",
        "# Reading the file and storing in a variable\n",
        "contents = HTMLFileToBeOpened.read()\n",
        "\n",
        "# Creating a BeautifulSoup object and specifying the parser\n",
        "beautifulSoupText = BeautifulSoup(contents, 'lxml')\n",
        "\n",
        "menu_items = beautifulSoupText.find_all('div', class_='menu-category')  # Example placeholder; update with actual class\n",
        "\n",
        "# Extract relevant information for each menu item - item_name, price, description - store in menu_data\n",
        "menu_data = []\n",
        "for item in menu_items:\n",
        "    item_classification = item.find('h2').text if item.find('h2') else \"No class\"\n",
        "    name = item.find('h3', class_='details__name').text if item.find('h3',class_='details__name') else \"No name\"\n",
        "    price = item.find('p', class_='details__price').text if item.find('p', class_='details__price') else \"No price\"\n",
        "    description = item.find('p', class_='details__description').text if item.find('p', class_='details__description') else \"No description\"\n",
        "    menu_data.append({\n",
        "        #'item_classification': item_classification,\n",
        "        'name': name,\n",
        "        'price': price,\n",
        "        #'description': description\n",
        "    })\n",
        "\n",
        "print(menu_data)\n",
        "\n",
        "spark = SparkSession.builder.appName(\"app\").getOrCreate()\n",
        "rdd = spark.sparkContext.parallelize(menu_data)\n",
        "\n",
        "# Define the schema for the Data Frame\n",
        "schema = StructType([\n",
        "    #StructField(\"class\", StringType()),\n",
        "    StructField(\"name\", StringType()),\n",
        "    StructField(\"price\", StringType()),\n",
        "])\n",
        "df = spark.createDataFrame(rdd, schema)\n",
        "df.write.csv('/content/drive/MyDrive/Colab Notebooks/py_Stonegate_webscraping/Derby/data_csv')\n",
        "df.write.parquet('/content/drive/MyDrive/Colab Notebooks/py_Stonegate_webscraping/Derby/data_p')\n",
        "\n",
        "\n",
        "# # To get all the tags present in the html\n",
        "# # and getting their length\n",
        "# for tag in beautifulSoupText.findAll(True):\n",
        "# \tprint(tag.name, \" : \", len(beautifulSoupText.find(tag.name).text))\n",
        "# Ref:: https://www.geeksforgeeks.org/how-to-scrape-data-from-local-html-files-using-python/\n"
      ]
    },
    {
      "cell_type": "markdown",
      "source": [
        "**Liverpool**"
      ],
      "metadata": {
        "id": "jWxChP-r259L"
      }
    },
    {
      "cell_type": "code",
      "execution_count": null,
      "metadata": {
        "id": "MF0BZmq4NTF4"
      },
      "outputs": [],
      "source": [
        "from bs4 import BeautifulSoup\n",
        "import requests\n",
        "# import prettify\n",
        "from pyspark.sql import SparkSession\n",
        "from pyspark.sql.types import StructType, StructField, StringType, IntegerType\n",
        "\n",
        "# Importing BeautifulSoup and it\n",
        "# is in the bs4 module\n",
        "from bs4 import BeautifulSoup\n",
        "\n",
        "# Opening the html file. If the file\n",
        "# is present in different location,\n",
        "# exact location need to be mentioned\n",
        "HTMLFileToBeOpened = open(\"/content/drive/MyDrive/Colab Notebooks/py_Stonegate_webscraping/Liverpool/Menu _ Marstons_liverpool.html\", \"r\")\n",
        "\n",
        "# Reading the file and storing in a variable\n",
        "contents = HTMLFileToBeOpened.read()\n",
        "\n",
        "# Creating a BeautifulSoup object and specifying the parser\n",
        "beautifulSoupText = BeautifulSoup(contents, 'lxml')\n",
        "\n",
        "menu_items = beautifulSoupText.find_all('div', class_='menu-category')  # Example placeholder; update with actual class\n",
        "\n",
        "# Extract relevant information for each menu item - item_name, price, description - store in menu_data\n",
        "menu_data = []\n",
        "for item in menu_items:\n",
        "    item_classification = item.find('h2').text if item.find('h2') else \"No class\"\n",
        "    name = item.find('h3', class_='details__name').text if item.find('h3',class_='details__name') else \"No name\"\n",
        "    price = item.find('p', class_='details__price').text if item.find('p', class_='details__price') else \"No price\"\n",
        "    description = item.find('p', class_='details__description').text if item.find('p', class_='details__description') else \"No description\"\n",
        "    menu_data.append({\n",
        "        #'item_classification': item_classification,\n",
        "        'name': name,\n",
        "        'price': price,\n",
        "        #'description': description\n",
        "    })\n",
        "\n",
        "print(menu_data)\n",
        "\n",
        "spark = SparkSession.builder.appName(\"app\").getOrCreate()\n",
        "rdd = spark.sparkContext.parallelize(menu_data)\n",
        "\n",
        "# Define the schema for the Data Frame\n",
        "schema = StructType([\n",
        "    #StructField(\"class\", StringType()),\n",
        "    StructField(\"name\", StringType()),\n",
        "    StructField(\"price\", StringType()),\n",
        "])\n",
        "df = spark.createDataFrame(rdd, schema)\n",
        "df.write.csv('/content/drive/MyDrive/Colab Notebooks/py_Stonegate_webscraping/Liverpool/data_csv')\n",
        "df.write.parquet('/content/drive/MyDrive/Colab Notebooks/py_Stonegate_webscraping/Liverpool/data_p')\n",
        "\n",
        "\n",
        "# # To get all the tags present in the html\n",
        "# # and getting their length\n",
        "# for tag in beautifulSoupText.findAll(True):\n",
        "# \tprint(tag.name, \" : \", len(beautifulSoupText.find(tag.name).text))\n",
        "# Ref:: https://www.geeksforgeeks.org/how-to-scrape-data-from-local-html-files-using-python/\n"
      ]
    },
    {
      "cell_type": "markdown",
      "source": [
        "**Surrey**"
      ],
      "metadata": {
        "id": "bMPG0AXu2_u8"
      }
    },
    {
      "cell_type": "code",
      "execution_count": null,
      "metadata": {
        "id": "iRiLfWy6NTZR",
        "colab": {
          "base_uri": "https://localhost:8080/"
        },
        "outputId": "108aa20a-2e99-45dc-a24f-8d059403817a"
      },
      "outputs": [
        {
          "output_type": "stream",
          "name": "stdout",
          "text": [
            "[{'name': 'Vegan Crispy Coated BBQ Cauliflower Wings (Ve)* ', 'price': '£7.29'}, {'name': 'Vegan Crispy Coated BBQ Cauliflower Wings (Ve)* ', 'price': '£7.29'}, {'name': 'Steak & Chips **2.00 extra** ', 'price': '£13.79'}, {'name': 'Melt in the Middle Chocolate Pudding (V) ', 'price': '£7.79'}, {'name': 'Steak & Blue Cheese ', 'price': '£11.99'}, {'name': 'Vegan Houmous (Ve) ', 'price': '£5.79'}, {'name': \"Hunter's Chicken \", 'price': '£15.99'}, {'name': '10oz Ribeye Steak ', 'price': '£22.79'}, {'name': 'Cheese & Bacon Beef Burger ', 'price': '£15.99'}, {'name': 'Extra Chunky Chips (Ve)* ', 'price': '£3.50'}, {'name': 'Apple & Cherry Crumble (V) ', 'price': '£7.50'}, {'name': 'Kids Vegan Houmous (Ve) ', 'price': '£1.50'}, {'name': 'Kids Vegan Houmous (Ve) ', 'price': '£1.50'}, {'name': 'Kids Sausage & Mash ', 'price': '£6.79'}, {'name': 'Kids Vegan Fruit Salad (Ve) ', 'price': '£2.00'}, {'name': 'Oven-Baked Cod Loin ', 'price': '£20.50'}, {'name': 'Oven-Baked Cod Loin ', 'price': '£20.50'}, {'name': 'Americano ', 'price': '£3.25'}, {'name': 'Fever Tree Elderflower 200ml ', 'price': '£2.85'}, {'name': 'Fever Tree Elderflower 200ml ', 'price': '£2.85'}, {'name': 'Frobishers Apple Juice 250ml ', 'price': '£3.10'}, {'name': 'Pepsi Max - Pint ', 'price': '£3.85'}, {'name': 'J2O Spritz Apple & Elderflower ', 'price': '£3.35'}, {'name': 'Blackcurrant Cordial - 14oz ', 'price': '£1.70'}, {'name': 'Pedigree  ', 'price': '£4.45'}, {'name': 'Pedigree  ', 'price': '£4.45'}, {'name': 'Pedigree  ', 'price': '£4.45'}, {'name': 'Pedigree Cordial ', 'price': '£4.45'}, {'name': 'Pedigree Shandy ', 'price': '£4.45'}, {'name': 'Pedigree Top ', 'price': '£4.45'}, {'name': 'Pedigree Half ', 'price': '£2.25'}, {'name': 'Lilleys Bee Sting ', 'price': '£6.10'}, {'name': 'Lilleys Bee Sting ', 'price': '£6.10'}, {'name': 'Lilleys Bee Sting Cordial ', 'price': '£6.10'}, {'name': 'Lilleys Bee Sting Shandy ', 'price': '£6.10'}, {'name': 'Lilleys Bee Sting Top ', 'price': '£6.10'}, {'name': 'Lilleys Bee Sting Half ', 'price': '£3.05'}, {'name': 'Lilleys Bee Sting Half Cordial ', 'price': '£3.05'}, {'name': 'Lilleys Bee Sting Half Shandy ', 'price': '£3.05'}, {'name': 'Lilleys Bee Sting Half Top ', 'price': '£3.05'}, {'name': 'Amstel  ', 'price': '£5.30'}, {'name': 'Amstel  ', 'price': '£5.30'}, {'name': 'Amstel Cordial ', 'price': '£5.30'}, {'name': 'Amstel Shandy ', 'price': '£5.30'}, {'name': 'Amstel Top ', 'price': '£5.30'}, {'name': 'Amstel Half ', 'price': '£2.65'}, {'name': 'Amstel Half Cordial ', 'price': '£2.65'}, {'name': 'Amstel Half Shandy ', 'price': '£2.65'}, {'name': 'Amstel Half Top ', 'price': '£2.65'}, {'name': 'Guinness Cordial ', 'price': '£5.50'}, {'name': 'Guinness Cordial ', 'price': '£5.50'}, {'name': 'Guinness Shandy ', 'price': '£5.50'}, {'name': 'Guinness Top ', 'price': '£5.50'}, {'name': 'Guinness Half ', 'price': '£2.75'}, {'name': 'Guinness Half Cordial ', 'price': '£2.75'}, {'name': 'Guinness Half Shandy ', 'price': '£2.75'}, {'name': 'Guinness Half Top ', 'price': '£2.75'}, {'name': 'Shipyard Pale Ale 330ml ', 'price': '£5.75'}, {'name': 'Shipyard Pale Ale 330ml ', 'price': '£5.75'}, {'name': 'Bulmers Apple 500ml ', 'price': '£5.80'}, {'name': 'Brewdog Punk IPA 330ml ', 'price': '£5.95'}, {'name': 'Becks Blue 275ml ', 'price': '£4.30'}, {'name': 'Remy Martin VSOP - Double ', 'price': '£7.45'}, {'name': 'Remy Martin VSOP - Double ', 'price': '£7.45'}, {'name': 'The Botanist Double ', 'price': '£7.45'}, {'name': 'Appleton White Double ', 'price': '£6.60'}, {'name': 'Absolut Vodka Double ', 'price': '£6.95'}, {'name': 'Bells Double ', 'price': '£6.30'}, {'name': 'Aperol Double ', 'price': '£7.35'}, {'name': 'El Jimador Blanco Tequila ', 'price': '£4.30'}, {'name': 'Ondas Pinot Noir Reserva ', 'price': '£25.00'}, {'name': 'Ondas Pinot Noir Reserva ', 'price': '£25.00'}, {'name': 'Ondas Pinot Noir Reserva ', 'price': '£25.00'}, {'name': 'Sunset Heights Zinfandel Blush  ', 'price': '£24.00'}, {'name': 'Fraser Bay Chenin Columbard  ', 'price': '£20.00'}, {'name': 'Lovelli Prosecco ', 'price': '£24.00'}, {'name': 'Alta Vista Malbec 250ml ', 'price': '£11.95'}, {'name': 'Alta Vista Malbec 250ml ', 'price': '£11.95'}, {'name': 'Canto Regio Rosado 250ml ', 'price': '£8.50'}, {'name': 'Cuvee Thetis Picpoul de Pinet 250ml ', 'price': '£11.50'}, {'name': 'Cara Amica Prosecco Rose 200ml \\t ', 'price': '£8.25'}, {'name': 'Baby Guinness Shot ', 'price': '£4.10'}, {'name': 'Baby Guinness Shot ', 'price': '£4.10'}, {'name': 'Aperol Spritz ', 'price': '£8.50'}, {'name': 'Marmalade Jar ', 'price': '£8.50'}, {'name': 'Cloudy Lemonade ', 'price': '£5.25'}, {'name': 'Mini Cheddars Cheese & Pickle ', 'price': '£1.55'}]\n"
          ]
        }
      ],
      "source": [
        "from bs4 import BeautifulSoup\n",
        "import requests\n",
        "# import prettify\n",
        "from pyspark.sql import SparkSession\n",
        "from pyspark.sql.types import StructType, StructField, StringType, IntegerType\n",
        "\n",
        "# Importing BeautifulSoup and it\n",
        "# is in the bs4 module\n",
        "from bs4 import BeautifulSoup\n",
        "\n",
        "# Opening the html file. If the file\n",
        "# is present in different location,\n",
        "# exact location need to be mentioned\n",
        "HTMLFileToBeOpened = open(\"/content/drive/MyDrive/Colab Notebooks/py_Stonegate_webscraping/Surrey/Webpage_Marstons_surrey.html\", \"r\")\n",
        "\n",
        "# Reading the file and storing in a variable\n",
        "contents = HTMLFileToBeOpened.read()\n",
        "\n",
        "# Creating a BeautifulSoup object and specifying the parser\n",
        "beautifulSoupText = BeautifulSoup(contents, 'lxml')\n",
        "\n",
        "menu_items = beautifulSoupText.find_all('div', class_='menu-category')  # Example placeholder; update with actual class\n",
        "\n",
        "# Extract relevant information for each menu item - item_name, price, description - store in menu_data\n",
        "menu_data = []\n",
        "for item in menu_items:\n",
        "    item_classification = item.find('h2').text if item.find('h2') else \"No class\"\n",
        "    name = item.find('h3', class_='details__name').text if item.find('h3',class_='details__name') else \"No name\"\n",
        "    price = item.find('p', class_='details__price').text if item.find('p', class_='details__price') else \"No price\"\n",
        "    description = item.find('p', class_='details__description').text if item.find('p', class_='details__description') else \"No description\"\n",
        "    menu_data.append({\n",
        "        #'item_classification': item_classification,\n",
        "        'name': name,\n",
        "        'price': price,\n",
        "        #'description': description\n",
        "    })\n",
        "\n",
        "print(menu_data)\n",
        "\n",
        "spark = SparkSession.builder.appName(\"app\").getOrCreate()\n",
        "rdd = spark.sparkContext.parallelize(menu_data)\n",
        "\n",
        "# Define the schema for the Data Frame\n",
        "schema = StructType([\n",
        "    #StructField(\"class\", StringType()),\n",
        "    StructField(\"name\", StringType()),\n",
        "    StructField(\"price\", StringType()),\n",
        "])\n",
        "df = spark.createDataFrame(rdd, schema)\n",
        "df.write.csv('/content/drive/MyDrive/Colab Notebooks/py_Stonegate_webscraping/Surrey/data_csv')\n",
        "df.write.parquet('/content/drive/MyDrive/Colab Notebooks/py_Stonegate_webscraping/Surrey/data_p')\n",
        "\n",
        "\n",
        "# # To get all the tags present in the html\n",
        "# # and getting their length\n",
        "# for tag in beautifulSoupText.findAll(True):\n",
        "# \tprint(tag.name, \" : \", len(beautifulSoupText.find(tag.name).text))\n",
        "# Ref:: https://www.geeksforgeeks.org/how-to-scrape-data-from-local-html-files-using-python/\n"
      ]
    },
    {
      "cell_type": "markdown",
      "source": [
        "**Stoke**"
      ],
      "metadata": {
        "id": "U_2Q8Tzn5CvP"
      }
    },
    {
      "cell_type": "code",
      "execution_count": null,
      "metadata": {
        "id": "PQGX9LVuNTcK",
        "colab": {
          "base_uri": "https://localhost:8080/"
        },
        "outputId": "78d039f6-2a9c-4d79-ff85-7e8ec141b5ab"
      },
      "outputs": [
        {
          "output_type": "stream",
          "name": "stdout",
          "text": [
            "[{'name': 'Britvic Tonic 200ml ', 'price': '£2.30'}, {'name': 'Britvic Tonic 200ml ', 'price': '£2.30'}, {'name': 'Ballygowan Sparkling Mineral Water 330ml ', 'price': '£2.10'}, {'name': 'Pepsi Max - Pint ', 'price': '£3.85'}, {'name': 'J2O Apple & Mango 275ml ', 'price': '£3.35'}, {'name': 'Orange Cordial - 14oz ', 'price': '£1.70'}, {'name': 'Smirnoff Ice 275ml ', 'price': '£5.25'}, {'name': 'Smirnoff Ice 275ml ', 'price': '£5.25'}, {'name': 'Newcastle Brown Ale 550ml ', 'price': '£4.80'}, {'name': 'Bulmers Apple 500ml ', 'price': '£5.45'}, {'name': 'Brewdog Punk IPA 330ml ', 'price': '£5.60'}, {'name': 'Becks Blue 275ml ', 'price': '£4.05'}, {'name': 'Pedigree Cask  ', 'price': '£4.30'}, {'name': 'Pedigree Cask  ', 'price': '£4.30'}, {'name': 'Pedigree Cask  ', 'price': '£4.30'}, {'name': 'Strongbow  ', 'price': '£4.40'}, {'name': 'Strongbow  ', 'price': '£4.40'}, {'name': 'Strongbow Cordial ', 'price': '£4.40'}, {'name': 'Strongbow Half ', 'price': '£2.20'}, {'name': 'Amstel  ', 'price': '£4.75'}, {'name': 'Amstel  ', 'price': '£4.75'}, {'name': 'Amstel Cordial ', 'price': '£4.75'}, {'name': 'Amstel Shandy ', 'price': '£4.75'}, {'name': 'Amstel Top ', 'price': '£4.75'}, {'name': 'Amstel Half ', 'price': '£2.40'}, {'name': 'Amstel Half Cordial ', 'price': '£2.40'}, {'name': 'Amstel Half Shandy ', 'price': '£2.40'}, {'name': 'San Miguel Half Top ', 'price': '£2.60'}, {'name': 'Guinness  ', 'price': '£4.90'}, {'name': 'Guinness  ', 'price': '£4.90'}, {'name': 'Guinness Cordial ', 'price': '£4.90'}, {'name': 'Guinness Half ', 'price': '£2.45'}, {'name': 'Guinness Half Cordial ', 'price': '£2.45'}, {'name': 'Three Barrels VSOP - Double ', 'price': '£6.20'}, {'name': 'Three Barrels VSOP - Double ', 'price': '£6.20'}, {'name': 'Bombay Sapphire - Double ', 'price': '£6.30'}, {'name': 'Bacardi - Double ', 'price': '£6.05'}, {'name': 'Absolut Vanilla Double ', 'price': '£6.55'}, {'name': 'Aber Falls Single Malt Double ', 'price': '£6.40'}, {'name': 'Aperol Double ', 'price': '£6.95'}, {'name': 'Jagermeister Coldbrew ', 'price': '£4.00'}, {'name': 'Alta Vista Vive Classic Malbec ', 'price': '£24.00'}, {'name': 'Alta Vista Vive Classic Malbec ', 'price': '£24.00'}, {'name': 'Alta Vista Vive Classic Malbec ', 'price': '£24.00'}, {'name': 'Arietta Pinot Grigio Blush ', 'price': '£20.00'}, {'name': 'Colverde Pinot Grigio ', 'price': '£19.00'}, {'name': 'Cara Amica Prosecco Rose ', 'price': '£23.00'}, {'name': 'Alta Vista Vive Classic Malbec 250ml ', 'price': '£9.75'}, {'name': 'Alta Vista Vive Classic Malbec 250ml ', 'price': '£9.75'}, {'name': 'Arietta Pinot Grigio Blush 250ml ', 'price': '£8.25'}, {'name': 'Colverde Pinot Grigio 250ml ', 'price': '£7.75'}, {'name': 'Cara Amica Prosecco Rose 200ml \\t ', 'price': '£8.50'}, {'name': 'Sex On The Beach Cocktail ', 'price': '£6.75'}, {'name': 'Sex On The Beach Cocktail ', 'price': '£6.75'}, {'name': 'Sex On The Beach Pitcher ', 'price': '£13.50'}, {'name': 'Passion Fruit Refresher ', 'price': '£3.75'}, {'name': 'McCoys Cheese & Onion ', 'price': '£1.55'}, {'name': 'McCoys Cheese & Onion ', 'price': '£1.55'}]\n"
          ]
        }
      ],
      "source": [
        "from bs4 import BeautifulSoup\n",
        "import requests\n",
        "# import prettify\n",
        "from pyspark.sql import SparkSession\n",
        "from pyspark.sql.types import StructType, StructField, StringType, IntegerType\n",
        "\n",
        "# Importing BeautifulSoup and it\n",
        "# is in the bs4 module\n",
        "from bs4 import BeautifulSoup\n",
        "\n",
        "# Opening the html file. If the file\n",
        "# is present in different location,\n",
        "# exact location need to be mentioned\n",
        "HTMLFileToBeOpened = open(\"/content/drive/MyDrive/Colab Notebooks/py_Stonegate_webscraping/Stoke/Menu _ Marstons.html\", \"r\")\n",
        "\n",
        "# Reading the file and storing in a variable\n",
        "contents = HTMLFileToBeOpened.read()\n",
        "\n",
        "# Creating a BeautifulSoup object and specifying the parser\n",
        "beautifulSoupText = BeautifulSoup(contents, 'lxml')\n",
        "\n",
        "menu_items = beautifulSoupText.find_all('div', class_='menu-category')  # Example placeholder; update with actual class\n",
        "\n",
        "# Extract relevant information for each menu item - item_name, price, description - store in menu_data\n",
        "menu_data = []\n",
        "for item in menu_items:\n",
        "    item_classification = item.find('h2').text if item.find('h2') else \"No class\"\n",
        "    name = item.find('h3', class_='details__name').text if item.find('h3',class_='details__name') else \"No name\"\n",
        "    price = item.find('p', class_='details__price').text if item.find('p', class_='details__price') else \"No price\"\n",
        "    description = item.find('p', class_='details__description').text if item.find('p', class_='details__description') else \"No description\"\n",
        "    menu_data.append({\n",
        "        #'item_classification': item_classification,\n",
        "        'name': name,\n",
        "        'price': price,\n",
        "        #'description': description\n",
        "    })\n",
        "\n",
        "print(menu_data)\n",
        "\n",
        "spark = SparkSession.builder.appName(\"app\").getOrCreate()\n",
        "rdd = spark.sparkContext.parallelize(menu_data)\n",
        "\n",
        "# Define the schema for the Data Frame\n",
        "schema = StructType([\n",
        "    #StructField(\"class\", StringType()),\n",
        "    StructField(\"name\", StringType()),\n",
        "    StructField(\"price\", StringType()),\n",
        "])\n",
        "df = spark.createDataFrame(rdd, schema)\n",
        "df.write.csv('/content/drive/MyDrive/Colab Notebooks/py_Stonegate_webscraping/Stoke/data_csv')\n",
        "df.write.parquet('/content/drive/MyDrive/Colab Notebooks/py_Stonegate_webscraping/Stoke/data_p')\n",
        "\n",
        "\n",
        "# # To get all the tags present in the html\n",
        "# # and getting their length\n",
        "# for tag in beautifulSoupText.findAll(True):\n",
        "# \tprint(tag.name, \" : \", len(beautifulSoupText.find(tag.name).text))\n",
        "# Ref:: https://www.geeksforgeeks.org/how-to-scrape-data-from-local-html-files-using-python/\n"
      ]
    },
    {
      "cell_type": "markdown",
      "source": [
        "**Lutterworth**"
      ],
      "metadata": {
        "id": "nCpuhhGZ6QpP"
      }
    },
    {
      "cell_type": "code",
      "execution_count": null,
      "metadata": {
        "id": "dtNO6lWfNTfI",
        "colab": {
          "base_uri": "https://localhost:8080/"
        },
        "outputId": "9b165c49-f160-49cd-d7dd-ab4ca9b19d3f"
      },
      "outputs": [
        {
          "output_type": "stream",
          "name": "stdout",
          "text": [
            "[{'name': 'Box to Box Strips ', 'price': '£10.00'}, {'name': 'Mozzarella & Cheddar Bites (V)* ', 'price': '£5.99'}, {'name': 'Mozzarella & Cheddar Bites (V)* ', 'price': '£5.99'}, {'name': 'Small Sunday Carvery ', 'price': '£11.79'}, {'name': '2 Pigs in Blankets  ', 'price': '£2.50'}, {'name': 'Mac & Cheese (V) ', 'price': '£12.59'}, {'name': 'Cheeseburger ', 'price': '£12.29'}, {'name': '8oz Aged Rump ', 'price': '£14.79'}, {'name': 'Chicken Tikka Masala ', 'price': '£12.59'}, {'name': 'BBQ Cauliflower Wings (VE)* ', 'price': '£12.79'}, {'name': 'Fries (VE)* ', 'price': '£3.00'}, {'name': 'Vegan Banoffee Chocolate Tart (VE) ', 'price': '£5.99'}, {'name': 'Kids Cheesy Tortilla Chips (V) ', 'price': '£1.50'}, {'name': 'Kids Cheesy Tortilla Chips (V) ', 'price': '£1.50'}, {'name': 'Kids Beef Burger ', 'price': '£4.99'}, {'name': 'Kids Fish Fillet Fingers ', 'price': '£5.99'}, {'name': \"Hunter's Chicken \", 'price': '£8.29'}, {'name': 'Kids Fruitypot™ Jelly and Ice Cream (V) ', 'price': '£1.50'}, {'name': 'Americano ', 'price': '£2.35'}, {'name': 'Britvic Slim Bitter Lemon 200ml ', 'price': '£2.20'}, {'name': 'Britvic Slim Bitter Lemon 200ml ', 'price': '£2.20'}, {'name': 'Britvic 55 Apple 275ml ', 'price': '£2.95'}, {'name': 'Pepsi Max - Pint ', 'price': '£3.75'}, {'name': 'J2O Apple & Mango 275ml ', 'price': '£3.35'}, {'name': 'Orange Cordial - 14oz ', 'price': '£1.60'}, {'name': 'Hooch 500ml ', 'price': '£5.55'}, {'name': 'Hooch 500ml ', 'price': '£5.55'}, {'name': 'Erdinger Weissbier 500ml ', 'price': '£5.80'}, {'name': 'Bulmers Apple 500ml ', 'price': '£5.40'}, {'name': 'Brewdog Punk IPA 330ml ', 'price': '£5.55'}, {'name': 'Old Mout Berries & Cherries 0% ABV - 500ml ', 'price': '£4.80'}, {'name': 'Pedigree  ', 'price': '£4.40'}, {'name': 'Pedigree  ', 'price': '£4.40'}, {'name': 'Pedigree  ', 'price': '£4.40'}, {'name': 'Pedigree Cordial ', 'price': '£4.40'}, {'name': 'Pedigree Shandy ', 'price': '£4.40'}, {'name': \"Banks's Amber Bitter Top \", 'price': '£4.25'}, {'name': 'Pedigree Half ', 'price': '£2.20'}, {'name': \"Banks's Amber Bitter Half Cordial \", 'price': '£2.15'}, {'name': \"Banks's Amber Bitter Half Shandy \", 'price': '£2.15'}, {'name': \"Banks's Amber Bitter Half Top \", 'price': '£2.15'}, {'name': 'Lilleys Bee Sting ', 'price': '£6.00'}, {'name': 'Lilleys Bee Sting ', 'price': '£6.00'}, {'name': 'Lilleys Bee Sting Cordial ', 'price': '£6.00'}, {'name': 'Lilleys Bee Sting Shandy ', 'price': '£6.00'}, {'name': 'Lilleys Bee Sting Top ', 'price': '£6.00'}, {'name': 'Lilleys Bee Sting Half ', 'price': '£3.00'}, {'name': 'Lilleys Bee Sting Half Cordial ', 'price': '£3.00'}, {'name': 'Lilleys Bee Sting Half Shandy ', 'price': '£3.00'}, {'name': 'Lilleys Bee Sting Half Top ', 'price': '£3.00'}, {'name': 'Cruzcampo ', 'price': '£6.10'}, {'name': 'Cruzcampo ', 'price': '£6.10'}, {'name': 'Neck Oil IPA Cordial ', 'price': '£6.25'}, {'name': 'Neck Oil IPA Shandy ', 'price': '£6.25'}, {'name': 'Neck Oil IPA Top ', 'price': '£6.25'}, {'name': 'Cruzcampo Half ', 'price': '£3.05'}, {'name': 'Cruzcampo Half Cordial ', 'price': '£3.05'}, {'name': 'Cruzcampo Half Shandy ', 'price': '£3.05'}, {'name': 'Cruzcampo Half Top ', 'price': '£3.05'}, {'name': 'Guinness  ', 'price': '£5.40'}, {'name': 'Guinness  ', 'price': '£5.40'}, {'name': 'Guinness Cordial ', 'price': '£5.40'}, {'name': 'Guinness Shandy ', 'price': '£5.40'}, {'name': 'Guinness Top ', 'price': '£5.40'}, {'name': 'Guinness Half ', 'price': '£2.70'}, {'name': 'Guinness Half Cordial ', 'price': '£2.70'}, {'name': 'Guinness Half Shandy ', 'price': '£2.70'}, {'name': 'Guinness Half Top ', 'price': '£2.70'}, {'name': 'Courvoisier VSOP Double ', 'price': '£6.50'}, {'name': 'Courvoisier VSOP Double ', 'price': '£6.50'}, {'name': 'Bombay Sapphire - Double ', 'price': '£6.20'}, {'name': 'Bacardi - Double ', 'price': '£5.95'}, {'name': 'Absolut Vodka Double ', 'price': '£6.45'}, {'name': 'Bells Double ', 'price': '£5.80'}, {'name': 'Aperol Double ', 'price': '£6.80'}, {'name': 'Jagermeister ', 'price': '£3.90'}, {'name': 'Carta 23 Chilean Merlot ', 'price': '£20.00'}, {'name': 'Carta 23 Chilean Merlot ', 'price': '£20.00'}, {'name': 'Carta 23 Chilean Merlot ', 'price': '£20.00'}, {'name': 'Arietta Pinot Grigio Blush ', 'price': '£20.00'}, {'name': 'Colverde Pinot Grigio ', 'price': '£19.00'}, {'name': 'Aimery Cremant Brut NV ', 'price': '£30.00'}, {'name': 'Carta 23 Chilean Merlot 250ml ', 'price': '£8.25'}, {'name': 'Carta 23 Chilean Merlot 250ml ', 'price': '£8.25'}, {'name': 'Arietta Pinot Grigio Blush 250ml ', 'price': '£8.25'}, {'name': 'Colverde Pinot Grigio 250ml ', 'price': '£7.75'}, {'name': 'Cara Amica Prosecco Rose 200ml \\t ', 'price': '£8.50'}, {'name': 'Long Island Ice Tea Cocktail ', 'price': '£6.75'}, {'name': 'Long Island Ice Tea Cocktail ', 'price': '£6.75'}, {'name': 'Passion Fruit Refresher ', 'price': '£3.75'}, {'name': 'McCoys Cheese & Onion ', 'price': '£1.55'}, {'name': 'McCoys Cheese & Onion ', 'price': '£1.55'}, {'name': 'Maltesers ', 'price': '£1.55'}]\n"
          ]
        }
      ],
      "source": [
        "from bs4 import BeautifulSoup\n",
        "import requests\n",
        "# import prettify\n",
        "from pyspark.sql import SparkSession\n",
        "from pyspark.sql.types import StructType, StructField, StringType, IntegerType\n",
        "\n",
        "# Importing BeautifulSoup and it\n",
        "# is in the bs4 module\n",
        "from bs4 import BeautifulSoup\n",
        "\n",
        "# Opening the html file. If the file\n",
        "# is present in different location,\n",
        "# exact location need to be mentioned\n",
        "HTMLFileToBeOpened = open(\"/content/drive/MyDrive/Colab Notebooks/py_Stonegate_webscraping/Lutterworth/Menu _ Marstons.html\", \"r\")\n",
        "\n",
        "# Reading the file and storing in a variable\n",
        "contents = HTMLFileToBeOpened.read()\n",
        "\n",
        "# Creating a BeautifulSoup object and specifying the parser\n",
        "beautifulSoupText = BeautifulSoup(contents, 'lxml')\n",
        "\n",
        "menu_items = beautifulSoupText.find_all('div', class_='menu-category')  # Example placeholder; update with actual class\n",
        "\n",
        "# Extract relevant information for each menu item - item_name, price, description - store in menu_data\n",
        "menu_data = []\n",
        "for item in menu_items:\n",
        "    item_classification = item.find('h2').text if item.find('h2') else \"No class\"\n",
        "    name = item.find('h3', class_='details__name').text if item.find('h3',class_='details__name') else \"No name\"\n",
        "    price = item.find('p', class_='details__price').text if item.find('p', class_='details__price') else \"No price\"\n",
        "    description = item.find('p', class_='details__description').text if item.find('p', class_='details__description') else \"No description\"\n",
        "    menu_data.append({\n",
        "        #'item_classification': item_classification,\n",
        "        'name': name,\n",
        "        'price': price,\n",
        "        #'description': description\n",
        "    })\n",
        "\n",
        "print(menu_data)\n",
        "\n",
        "spark = SparkSession.builder.appName(\"app\").getOrCreate()\n",
        "rdd = spark.sparkContext.parallelize(menu_data)\n",
        "\n",
        "# Define the schema for the Data Frame\n",
        "schema = StructType([\n",
        "    #StructField(\"class\", StringType()),\n",
        "    StructField(\"name\", StringType()),\n",
        "    StructField(\"price\", StringType()),\n",
        "])\n",
        "df = spark.createDataFrame(rdd, schema)\n",
        "df.write.csv('/content/drive/MyDrive/Colab Notebooks/py_Stonegate_webscraping/Lutterworth/data_csv')\n",
        "df.write.parquet('/content/drive/MyDrive/Colab Notebooks/py_Stonegate_webscraping/Lutterworth/data_p')\n",
        "\n",
        "\n",
        "# # To get all the tags present in the html\n",
        "# # and getting their length\n",
        "# for tag in beautifulSoupText.findAll(True):\n",
        "# \tprint(tag.name, \" : \", len(beautifulSoupText.find(tag.name).text))\n",
        "# Ref:: https://www.geeksforgeeks.org/how-to-scrape-data-from-local-html-files-using-python/\n"
      ]
    },
    {
      "cell_type": "code",
      "source": [
        "from google.colab import drive\n",
        "drive.mount('/content/drive')"
      ],
      "metadata": {
        "id": "zfAOFBIGm8Ms"
      },
      "execution_count": null,
      "outputs": []
    }
  ],
  "metadata": {
    "colab": {
      "provenance": [],
      "include_colab_link": true
    },
    "kernelspec": {
      "display_name": "Python 3",
      "name": "python3"
    },
    "language_info": {
      "name": "python",
      "version": "3.11.9"
    }
  },
  "nbformat": 4,
  "nbformat_minor": 0
}
