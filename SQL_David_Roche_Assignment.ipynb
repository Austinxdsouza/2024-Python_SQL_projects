{
  "nbformat": 4,
  "nbformat_minor": 0,
  "metadata": {
    "colab": {
      "provenance": [],
      "authorship_tag": "ABX9TyObRuTBDlBozWmXs7x784g0",
      "include_colab_link": true
    },
    "kernelspec": {
      "name": "python3",
      "display_name": "Python 3"
    },
    "language_info": {
      "name": "python"
    }
  },
  "cells": [
    {
      "cell_type": "markdown",
      "metadata": {
        "id": "view-in-github",
        "colab_type": "text"
      },
      "source": [
        "<a href=\"https://colab.research.google.com/github/Austinxdsouza/2024-Python_SQL_projets/blob/main/SQL_David_Roche_Assignment.ipynb\" target=\"_parent\"><img src=\"https://colab.research.google.com/assets/colab-badge.svg\" alt=\"Open In Colab\"/></a>"
      ]
    },
    {
      "cell_type": "code",
      "execution_count": null,
      "metadata": {
        "id": "IwegT9-RQcXw"
      },
      "outputs": [],
      "source": [
        "--# INSERT DATA INTO [master].[dbo].[Table_A] USING SELECT STATEMENT\n",
        "--insert into [master].[dbo].[Table_A] select 1234,'20181001 00:08:45','20181001 00:09:15'\n",
        "--insert into [master].[dbo].[Table_A] select 1234,'20181001 00:08:30','20181001 00:09:00'\n",
        "--insert into [master].[dbo].[Table_A] select 1234,'20181001 00:09:30','20181001 00:10:00'\n",
        "--insert into [master].[dbo].[Table_A] select 12345,'20181001 00:08:45','20181001 00:09:15'\n",
        "--insert into [master].[dbo].[Table_A] select 12345,'20181001 00:09:30','20181001 00:10:00'\n",
        "--insert into [master].[dbo].[Table_A] select 12345,'20181001 00:10:50','20181001 00:11:00'\n",
        "--insert into [master].[dbo].[Table_A] select 12345,'20181001 00:09:50','20181001 00:10:00'\n",
        "--insert into [master].[dbo].[Table_A] select 12345,'20181001 00:09:30','20181001 00:10:00'\n",
        "\n",
        "-- # DELETE ROW BASED ON SPECIFIC COLUMN_NAME\n",
        "DELETE FROM Table_A WHERE trainerid = 123;\n",
        "\n",
        "SELECT * FROM Table_A\n",
        "\n",
        "SELECT *\n",
        "FROM Table_A AS t1, Table_A AS t2\n",
        "WHERE t1.trainerid = 1234 AND t2.trainerid = 12345\n",
        "\n",
        "-- # IDENTIFYING OVERLAPPING\n",
        "SELECT\n",
        "CASE WHEN\n",
        "(t1.starttime BETWEEN t2.starttime AND t2.endtime) OR\n",
        "(t1.endtime BETWEEN t2.starttime AND t2.endtime) OR\n",
        "(t1.starttime < t2.starttime AND t1.endtime > t2.endtime) OR\n",
        "(t1.starttime > t2.starttime AND t1.endtime < t2.endtime)\n",
        "THEN\n",
        "'YES'\n",
        "END AS Overlapping\n",
        ",t1.trainerid,t2.trainerid,t1.starttime, t1.endtime,t2.starttime,t2.endtime\n",
        "FROM Table_A AS t1, Table_A AS t2\n",
        "WHERE t1.trainerid = 1234 AND t2.trainerid = 12345\n",
        "ORDER BY Overlapping DESC\n",
        "\n",
        "-- # RESULT SET\n",
        "\n",
        "YES\t1234\t12345\t2018-10-01 00:09:30.000\t2018-10-01 00:10:00.000\t2018-10-01 00:09:30.000\t2018-10-01 00:10:00.000\n",
        "YES\t1234\t12345\t2018-10-01 00:08:45.000\t2018-10-01 00:09:15.000\t2018-10-01 00:08:45.000\t2018-10-01 00:09:15.000\n",
        "YES\t1234\t12345\t2018-10-01 00:08:30.000\t2018-10-01 00:09:00.000\t2018-10-01 00:08:45.000\t2018-10-01 00:09:15.000\n",
        "YES\t1234\t12345\t2018-10-01 00:09:30.000\t2018-10-01 00:10:00.000\t2018-10-01 00:09:50.000\t2018-10-01 00:10:00.000\n",
        "NULL\t1234\t12345\t2018-10-01 00:08:45.000\t2018-10-01 00:09:15.000\t2018-10-01 00:09:30.000\t2018-10-01 00:10:00.000\n",
        "NULL\t1234\t12345\t2018-10-01 00:08:30.000\t2018-10-01 00:09:00.000\t2018-10-01 00:09:30.000\t2018-10-01 00:10:00.000\n",
        "NULL\t1234\t12345\t2018-10-01 00:09:30.000\t2018-10-01 00:10:00.000\t2018-10-01 00:08:45.000\t2018-10-01 00:09:15.000\n",
        "NULL\t1234\t12345\t2018-10-01 00:08:45.000\t2018-10-01 00:09:15.000\t2018-10-01 00:10:50.000\t2018-10-01 00:11:00.000\n",
        "NULL\t1234\t12345\t2018-10-01 00:08:30.000\t2018-10-01 00:09:00.000\t2018-10-01 00:10:50.000\t2018-10-01 00:11:00.000\n",
        "NULL\t1234\t12345\t2018-10-01 00:09:30.000\t2018-10-01 00:10:00.000\t2018-10-01 00:10:50.000\t2018-10-01 00:11:00.000\n",
        "NULL\t1234\t12345\t2018-10-01 00:08:45.000\t2018-10-01 00:09:15.000\t2018-10-01 00:09:50.000\t2018-10-01 00:10:00.000\n",
        "NULL\t1234\t12345\t2018-10-01 00:08:30.000\t2018-10-01 00:09:00.000\t2018-10-01 00:09:50.000\t2018-10-01 00:10:00.000"
      ]
    }
  ]
}